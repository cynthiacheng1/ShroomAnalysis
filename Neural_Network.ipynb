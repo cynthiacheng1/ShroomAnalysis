{
  "nbformat": 4,
  "nbformat_minor": 0,
  "metadata": {
    "colab": {
      "name": "Neural_Network.ipynb",
      "provenance": []
    },
    "kernelspec": {
      "name": "python3",
      "display_name": "Python 3"
    },
    "language_info": {
      "name": "python"
    }
  },
  "cells": [
    {
      "cell_type": "markdown",
      "metadata": {
        "id": "laJpdcBP2leK"
      },
      "source": [
        "#NEURAL NETWORK \n",
        "NOTE: All models here use L2 regularisation with penalty = 0.0001.\n",
        "First, we set up the libraries."
      ]
    },
    {
      "cell_type": "code",
      "metadata": {
        "id": "3jPN6Adg2t8R"
      },
      "source": [
        "from sklearn.neural_network import MLPClassifier\n",
        "from sklearn.datasets import make_classification\n",
        "from sklearn.model_selection import train_test_split\n",
        "from sklearn import preprocessing\n",
        "import pandas as pd\n",
        "import numpy as np\n",
        "import math\n",
        "import matplotlib.pyplot as plt \n",
        "\n",
        "%matplotlib inline"
      ],
      "execution_count": 221,
      "outputs": []
    },
    {
      "cell_type": "code",
      "metadata": {
        "id": "mOdJ-6jI8nsd"
      },
      "source": [
        "df = pd.read_csv(\"https://raw.githubusercontent.com/cynthiacheng1/ShroomAnalysis/main/mushrooms.csv\")"
      ],
      "execution_count": 222,
      "outputs": []
    },
    {
      "cell_type": "code",
      "metadata": {
        "colab": {
          "base_uri": "https://localhost:8080/"
        },
        "id": "CU7J-RhP9Dd7",
        "outputId": "d18d2f5d-0635-42d6-f814-abcd37e664a8"
      },
      "source": [
        "#Load the data / Preprocessing\n",
        "\n",
        "#Features\n",
        "data = df.drop(\"class\",axis=1)\n",
        "filters = [\"gill-attachment\",\"veil-type\",\"veil-color\",\"ring-number\"] #features to be excluded, found through constant and quasi-constant filtering\n",
        "data = data.drop(columns=filters)\n",
        "print(data.head)\n",
        "\n",
        "def to_digit(i):\n",
        "    if i in chars:\n",
        "        return chars[i]\n",
        "    else:\n",
        "        chars[i] = len(chars)+1\n",
        "        return chars[i]\n",
        "\n",
        "features = list(data.columns)\n",
        "for idx in features:\n",
        "    chars = {}\n",
        "    data[idx] = data[idx].map(to_digit)\n",
        "\n",
        "print(data.head)\n",
        "\n",
        "#Target\n",
        "target = df[\"class\"]\n",
        "target = target.replace(\"e\",0)\n",
        "target = target.replace(\"p\",1)\n",
        "print (target.head)\n"
      ],
      "execution_count": 223,
      "outputs": [
        {
          "output_type": "stream",
          "name": "stdout",
          "text": [
            "<bound method NDFrame.head of      cap-shape cap-surface cap-color  ... spore-print-color population habitat\n",
            "0            x           s         n  ...                 k          s       u\n",
            "1            x           s         y  ...                 n          n       g\n",
            "2            b           s         w  ...                 n          n       m\n",
            "3            x           y         w  ...                 k          s       u\n",
            "4            x           s         g  ...                 n          a       g\n",
            "...        ...         ...       ...  ...               ...        ...     ...\n",
            "8119         k           s         n  ...                 b          c       l\n",
            "8120         x           s         n  ...                 b          v       l\n",
            "8121         f           s         n  ...                 b          c       l\n",
            "8122         k           y         n  ...                 w          v       l\n",
            "8123         x           s         n  ...                 o          c       l\n",
            "\n",
            "[8124 rows x 18 columns]>\n",
            "<bound method NDFrame.head of       cap-shape  cap-surface  cap-color  ...  spore-print-color  population  habitat\n",
            "0             1            1          1  ...                  1           1        1\n",
            "1             1            1          2  ...                  2           2        2\n",
            "2             2            1          3  ...                  2           2        3\n",
            "3             1            2          3  ...                  1           1        1\n",
            "4             1            1          4  ...                  2           3        2\n",
            "...         ...          ...        ...  ...                ...         ...      ...\n",
            "8119          5            1          1  ...                  9           6        7\n",
            "8120          1            1          1  ...                  9           4        7\n",
            "8121          4            1          1  ...                  9           6        7\n",
            "8122          5            2          1  ...                  5           4        7\n",
            "8123          1            1          1  ...                  7           6        7\n",
            "\n",
            "[8124 rows x 18 columns]>\n",
            "<bound method NDFrame.head of 0       1\n",
            "1       0\n",
            "2       0\n",
            "3       1\n",
            "4       0\n",
            "       ..\n",
            "8119    0\n",
            "8120    0\n",
            "8121    0\n",
            "8122    1\n",
            "8123    0\n",
            "Name: class, Length: 8124, dtype: int64>\n"
          ]
        }
      ]
    },
    {
      "cell_type": "markdown",
      "metadata": {
        "id": "CCet_5LsCcGh"
      },
      "source": [
        "# Data Preprocessing"
      ]
    },
    {
      "cell_type": "code",
      "metadata": {
        "id": "mlvyJRyKCb3w"
      },
      "source": [
        "\n",
        "X= data.to_numpy()\n",
        "y = target.to_numpy()\n",
        "\n",
        "#70% train, 30%test\n",
        "X_train, X_test, y_train, y_test = train_test_split(X, y,test_size=0.30,random_state=1)\n",
        "\n",
        "#scaling x \n",
        "scaler = preprocessing.StandardScaler()\n",
        "X_train= scaler.fit_transform(X_train)\n",
        "X_test = scaler.transform(X_test)\n"
      ],
      "execution_count": 224,
      "outputs": []
    },
    {
      "cell_type": "markdown",
      "metadata": {
        "id": "m2vAUTqZDJSC"
      },
      "source": [
        "# Sigmoid activation\n",
        "We are goin to start with one 20-cell hidden layer, with the stoichastic gradient descent solver."
      ]
    },
    {
      "cell_type": "code",
      "metadata": {
        "id": "Vj9cBlCYDXxa"
      },
      "source": [
        "sig_nn = MLPClassifier(hidden_layer_sizes=(20,),activation=\"logistic\",solver=\"adam\",max_iter=1000)\n",
        "sig_nn.fit(X_train,y_train)\n",
        "\n",
        "y_pred = sig_nn.predict(X_test)\n",
        "sig_nn_score = sig_nn.score(X_test,y_test)\n",
        "y_pred_proba = sig_nn.predict_proba(X_test)\n"
      ],
      "execution_count": 225,
      "outputs": []
    },
    {
      "cell_type": "code",
      "metadata": {
        "colab": {
          "base_uri": "https://localhost:8080/"
        },
        "id": "ffGj9LQdNvHc",
        "outputId": "74481df0-03df-4b00-fc08-43bad0fa7a1f"
      },
      "source": [
        "print(sig_nn_score)\n",
        "#print(\"w: \",sig_nn.coefs_)\n",
        "#print(\"b: \",sig_nn.intercepts_)"
      ],
      "execution_count": 226,
      "outputs": [
        {
          "output_type": "stream",
          "name": "stdout",
          "text": [
            "0.9995898277276456\n"
          ]
        }
      ]
    },
    {
      "cell_type": "markdown",
      "metadata": {
        "id": "5jVgql4GLjW4"
      },
      "source": [
        "Now we know logistic with 1 20-cell hidden layer works, let's see how low we can lower the cell count while maintaining high acc."
      ]
    },
    {
      "cell_type": "code",
      "metadata": {
        "colab": {
          "base_uri": "https://localhost:8080/"
        },
        "id": "B47jKJqfN7AJ",
        "outputId": "4379e3c5-86dc-4ec9-db8c-fe919bb5857c"
      },
      "source": [
        "for cell in range (1,21):\n",
        "    sig_nn = MLPClassifier(hidden_layer_sizes=(cell,),activation=\"logistic\",solver=\"adam\",max_iter=1000)\n",
        "    sig_nn.fit(X_train,y_train)\n",
        "\n",
        "    print(cell,\"cells, acc=\",sig_nn.score(X_test,y_test))"
      ],
      "execution_count": 227,
      "outputs": [
        {
          "output_type": "stream",
          "name": "stdout",
          "text": [
            "1 cells, acc= 0.9835931091058244\n",
            "2 cells, acc= 0.9893355209187858\n",
            "3 cells, acc= 0.9942575881870386\n",
            "4 cells, acc= 0.9950779327317474\n",
            "5 cells, acc= 0.9938474159146842\n",
            "6 cells, acc= 0.9991796554552912\n",
            "7 cells, acc= 1.0\n",
            "8 cells, acc= 1.0\n",
            "9 cells, acc= 0.9991796554552912\n",
            "10 cells, acc= 0.9991796554552912\n",
            "11 cells, acc= 1.0\n",
            "12 cells, acc= 0.9995898277276456\n",
            "13 cells, acc= 0.9995898277276456\n",
            "14 cells, acc= 1.0\n",
            "15 cells, acc= 0.9995898277276456\n",
            "16 cells, acc= 1.0\n",
            "17 cells, acc= 1.0\n",
            "18 cells, acc= 1.0\n",
            "19 cells, acc= 1.0\n",
            "20 cells, acc= 1.0\n"
          ]
        }
      ]
    },
    {
      "cell_type": "markdown",
      "metadata": {
        "id": "SBUybEUfmoFJ"
      },
      "source": [
        "Just 5 cells work!"
      ]
    },
    {
      "cell_type": "code",
      "metadata": {
        "colab": {
          "base_uri": "https://localhost:8080/"
        },
        "id": "DUluoSACatvy",
        "outputId": "0d6e784d-fc70-4ea9-80ee-90944974157a"
      },
      "source": [
        "sig_nn = MLPClassifier(hidden_layer_sizes=(5,),activation=\"logistic\",solver=\"adam\",max_iter=1000)\n",
        "sig_nn.fit(X_train,y_train)\n",
        "\n",
        "y_pred = sig_nn.predict(X_test)\n",
        "sig_nn_score = sig_nn.score(X_test,y_test)\n",
        "y_pred_proba = sig_nn.predict_proba(X_test)\n",
        "\n",
        "print(sig_nn_score)\n",
        "#print(\"w: \",sig_nn.coefs_)\n",
        "#print(\"b: \",sig_nn.intercepts_)"
      ],
      "execution_count": 228,
      "outputs": [
        {
          "output_type": "stream",
          "name": "stdout",
          "text": [
            "1.0\n"
          ]
        }
      ]
    },
    {
      "cell_type": "markdown",
      "metadata": {
        "id": "kDL4JpnGbVeB"
      },
      "source": [
        "# TanH Activation\n",
        "\n",
        "Same thing, we start with one 20-node layer."
      ]
    },
    {
      "cell_type": "code",
      "metadata": {
        "id": "bNrGahG5be_a"
      },
      "source": [
        "tanh_nn = MLPClassifier(hidden_layer_sizes=(20,),activation=\"tanh\",solver=\"adam\",max_iter=1000)\n",
        "tanh_nn.fit(X_train,y_train)\n",
        "\n",
        "y_pred = tanh_nn.predict(X_test)\n",
        "tanh_score = tanh_nn.score(X_test,y_test)\n",
        "y_pred_proba = tanh_nn.predict_proba(X_test)\n"
      ],
      "execution_count": 229,
      "outputs": []
    },
    {
      "cell_type": "code",
      "metadata": {
        "colab": {
          "base_uri": "https://localhost:8080/"
        },
        "id": "Zh42jcQAbhck",
        "outputId": "046883a2-0225-4228-8088-f3a4339d0517"
      },
      "source": [
        "print(tanh_score)\n",
        "#print(\"w: \",tanh_nn.coefs_)\n",
        "#print(\"b: \",tanh_nn.intercepts_)"
      ],
      "execution_count": 230,
      "outputs": [
        {
          "output_type": "stream",
          "name": "stdout",
          "text": [
            "0.9995898277276456\n"
          ]
        }
      ]
    },
    {
      "cell_type": "markdown",
      "metadata": {
        "id": "aHqKDNaPdRR4"
      },
      "source": [
        "TanH also works as we imagined, now let's see if we can lower that cell count."
      ]
    },
    {
      "cell_type": "code",
      "metadata": {
        "colab": {
          "base_uri": "https://localhost:8080/"
        },
        "id": "kF5hAiIBeL-Z",
        "outputId": "4a76eff0-8589-4b10-bc52-30e7fd0495d6"
      },
      "source": [
        "for cell in range (1,21):\n",
        "    #we use lbfgs because the stoichastic one does not converge before cell size 20\n",
        "    tanh_nn = MLPClassifier(hidden_layer_sizes=(cell,),activation=\"tanh\",solver=\"adam\",max_iter=1000)\n",
        "    tanh_nn.fit(X_train,y_train)\n",
        "\n",
        "    print(cell,\"cells, acc=\",tanh_nn.score(X_test,y_test))"
      ],
      "execution_count": 231,
      "outputs": [
        {
          "output_type": "stream",
          "name": "stdout",
          "text": [
            "1 cells, acc= 0.9835931091058244\n",
            "2 cells, acc= 0.9848236259228876\n",
            "3 cells, acc= 0.9995898277276456\n",
            "4 cells, acc= 1.0\n",
            "5 cells, acc= 1.0\n",
            "6 cells, acc= 0.9995898277276456\n",
            "7 cells, acc= 0.9979491386382281\n",
            "8 cells, acc= 1.0\n",
            "9 cells, acc= 1.0\n",
            "10 cells, acc= 0.9995898277276456\n",
            "11 cells, acc= 0.9995898277276456\n",
            "12 cells, acc= 1.0\n",
            "13 cells, acc= 0.9995898277276456\n",
            "14 cells, acc= 1.0\n",
            "15 cells, acc= 0.9995898277276456\n",
            "16 cells, acc= 1.0\n",
            "17 cells, acc= 1.0\n",
            "18 cells, acc= 1.0\n",
            "19 cells, acc= 1.0\n",
            "20 cells, acc= 1.0\n"
          ]
        }
      ]
    },
    {
      "cell_type": "markdown",
      "metadata": {
        "id": "sg_8ITo5mrlN"
      },
      "source": [
        "Same thing here, just 5 cells work!"
      ]
    },
    {
      "cell_type": "code",
      "metadata": {
        "colab": {
          "base_uri": "https://localhost:8080/"
        },
        "id": "TEY6D1krmwIC",
        "outputId": "70244384-f8e3-415e-c419-e85e4645f7c4"
      },
      "source": [
        "tanh_nn = MLPClassifier(hidden_layer_sizes=(5,),activation=\"tanh\",solver=\"adam\",max_iter=1000)\n",
        "tanh_nn.fit(X_train,y_train)\n",
        "\n",
        "y_pred = tanh_nn.predict(X_test)\n",
        "tanh_nn_score = tanh_nn.score(X_test,y_test)\n",
        "y_pred_proba = tanh_nn.predict_proba(X_test)\n",
        "\n",
        "print(tanh_nn_score)\n",
        "#print(\"w: \",tanh_nn.coefs_)\n",
        "#print(\"b: \",tanh_nn.intercepts_)"
      ],
      "execution_count": 232,
      "outputs": [
        {
          "output_type": "stream",
          "name": "stdout",
          "text": [
            "1.0\n"
          ]
        }
      ]
    },
    {
      "cell_type": "markdown",
      "metadata": {
        "id": "tsftllA7PhU3"
      },
      "source": [
        "# Finally, the ReLu Activation \n",
        "\n",
        "Same as before <3"
      ]
    },
    {
      "cell_type": "code",
      "metadata": {
        "id": "KnC-RM04djH0"
      },
      "source": [
        "relu_nn = MLPClassifier(hidden_layer_sizes=(20,),activation=\"relu\",solver=\"adam\",max_iter=1000)\n",
        "relu_nn.fit(X_train,y_train)\n",
        "\n",
        "y_pred = relu_nn.predict(X_test)\n",
        "relu_score = relu_nn.score(X_test,y_test)\n",
        "y_pred_proba = relu_nn.predict_proba(X_test)\n"
      ],
      "execution_count": 233,
      "outputs": []
    },
    {
      "cell_type": "code",
      "metadata": {
        "colab": {
          "base_uri": "https://localhost:8080/"
        },
        "id": "PE8yLEAF2BMq",
        "outputId": "c044aa2b-ebcd-429b-c77a-52fadb34b311"
      },
      "source": [
        "print(relu_score)\n",
        "#print(\"w: \",relu_nn.coefs_)\n",
        "#print(\"b: \",relu_nn.intercepts_)"
      ],
      "execution_count": 234,
      "outputs": [
        {
          "output_type": "stream",
          "name": "stdout",
          "text": [
            "0.9995898277276456\n"
          ]
        }
      ]
    },
    {
      "cell_type": "markdown",
      "metadata": {
        "id": "u4i5_NQa2S2I"
      },
      "source": [
        "Now we test for least nodes"
      ]
    },
    {
      "cell_type": "code",
      "source": [
        "for cell in range (1,21):\n",
        "    #we use lbfgs because the stoichastic one does not converge before cell size 20\n",
        "    relu_nn = MLPClassifier(hidden_layer_sizes=(cell,),activation=\"relu\",solver=\"adam\",max_iter=1000)\n",
        "    relu_nn.fit(X_train,y_train)\n",
        "\n",
        "    print(cell,\"cells, acc=\",relu_nn.score(X_test,y_test))"
      ],
      "metadata": {
        "colab": {
          "base_uri": "https://localhost:8080/"
        },
        "id": "JfiAGs55_oOq",
        "outputId": "e80f3726-3b80-4597-b118-c2666ae7453e"
      },
      "execution_count": 249,
      "outputs": [
        {
          "output_type": "stream",
          "name": "stdout",
          "text": [
            "1 cells, acc= 0.98318293683347\n",
            "2 cells, acc= 0.98318293683347\n",
            "3 cells, acc= 0.9864643150123051\n",
            "4 cells, acc= 0.9991796554552912\n",
            "5 cells, acc= 1.0\n",
            "6 cells, acc= 1.0\n",
            "7 cells, acc= 0.9995898277276456\n",
            "8 cells, acc= 0.9995898277276456\n",
            "9 cells, acc= 0.9987694831829368\n",
            "10 cells, acc= 1.0\n",
            "11 cells, acc= 0.9995898277276456\n",
            "12 cells, acc= 0.9995898277276456\n",
            "13 cells, acc= 0.9991796554552912\n",
            "14 cells, acc= 1.0\n",
            "15 cells, acc= 0.9995898277276456\n",
            "16 cells, acc= 1.0\n",
            "17 cells, acc= 1.0\n",
            "18 cells, acc= 0.9995898277276456\n",
            "19 cells, acc= 0.9991796554552912\n",
            "20 cells, acc= 0.9995898277276456\n"
          ]
        }
      ]
    },
    {
      "cell_type": "markdown",
      "source": [
        "6 nodes work.\n",
        "\n",
        "Something worth noting is that more nodes does not neccessarily mean a higher accuracy. "
      ],
      "metadata": {
        "id": "tNxrbfiJBNJx"
      }
    },
    {
      "cell_type": "code",
      "source": [
        "relu_nn = MLPClassifier(hidden_layer_sizes=(5,),activation=\"relu\",solver=\"adam\",max_iter=1000)\n",
        "relu_nn.fit(X_train,y_train)\n",
        "\n",
        "y_pred = relu_nn.predict(X_test)\n",
        "relu_nn_score = relu_nn.score(X_test,y_test)\n",
        "y_pred_proba = relu_nn.predict_proba(X_test)\n",
        "\n",
        "print(relu_nn_score)\n",
        "#print(\"w: \",relu_nn.coefs_)\n",
        "#print(\"b: \",relu_nn.intercepts_)"
      ],
      "metadata": {
        "colab": {
          "base_uri": "https://localhost:8080/"
        },
        "id": "eNWKHYayANhJ",
        "outputId": "7dc22520-6c53-406e-9ded-5adfd62b0941"
      },
      "execution_count": 250,
      "outputs": [
        {
          "output_type": "stream",
          "name": "stdout",
          "text": [
            "0.9885151763740772\n"
          ]
        }
      ]
    },
    {
      "cell_type": "markdown",
      "source": [
        "# Feature Importance Estimation & Feature Reduction\n",
        "Since our data is linearly seperable, there is not much we can do in terms of optimisation. So instead, let's see if there is any way we can figure out which input features are the most important and which features are least important in determining the output of the model. "
      ],
      "metadata": {
        "id": "kCfCRsBHI_0J"
      }
    },
    {
      "cell_type": "markdown",
      "source": [
        "Our first, very naive approach will be to use one hidden layer with one node, this way we can get a very clear view of how much each input node contributes."
      ],
      "metadata": {
        "id": "WM0Dwzs3l-Ch"
      }
    },
    {
      "cell_type": "code",
      "source": [
        "one_nn = MLPClassifier(hidden_layer_sizes=(1,),activation=\"relu\",solver='adam',max_iter=1000)"
      ],
      "metadata": {
        "id": "--K375CQl9yX"
      },
      "execution_count": 251,
      "outputs": []
    },
    {
      "cell_type": "code",
      "source": [
        "one_nn.fit(X_train,y_train)\n",
        "\n",
        "y_pred = one_nn.predict(X_test)\n",
        "one_nn_score = one_nn.score(X_test,y_test)\n",
        "y_pred_proba = one_nn.predict_proba(X_test)\n",
        "\n",
        "print(one_nn_score)\n",
        "#print(\"w: \",one_nn.coefs_)\n",
        "#print(\"b: \",one_nn.intercepts_)\n"
      ],
      "metadata": {
        "colab": {
          "base_uri": "https://localhost:8080/"
        },
        "id": "gYYgvtxaAOIm",
        "outputId": "ab3bbacd-87c1-4e72-950a-9f676920ea31"
      },
      "execution_count": 252,
      "outputs": [
        {
          "output_type": "stream",
          "name": "stdout",
          "text": [
            "0.8178835110746514\n"
          ]
        }
      ]
    },
    {
      "cell_type": "code",
      "source": [
        "y_pred = one_nn.predict(X_test)\n",
        "one_nn_score = one_nn.score(X_test,y_test)\n",
        "y_pred_proba = one_nn.predict_proba(X_test)\n",
        "\n",
        "print(one_nn_score)\n",
        "#print(\"w: \",one_nn.coefs_)\n",
        "#print(\"b: \",one_nn.intercepts_)"
      ],
      "metadata": {
        "colab": {
          "base_uri": "https://localhost:8080/"
        },
        "id": "OQeXpjJ--T9M",
        "outputId": "aebd19d4-ba0f-4dbd-d8fc-612dd11fb3b7"
      },
      "execution_count": 253,
      "outputs": [
        {
          "output_type": "stream",
          "name": "stdout",
          "text": [
            "0.8178835110746514\n"
          ]
        }
      ]
    },
    {
      "cell_type": "code",
      "source": [
        "weights = one_nn.coefs_[0]\n",
        "temp = np.arange(weights.shape[0])\n",
        "temp = temp.reshape((weights.shape[0],1))\n",
        "\n",
        "weights_binded = np.hstack((weights,temp)) #next to each weight, is the feature number\n",
        "\n",
        "\n",
        "weights_abs_sorted = sorted(weights_binded,key=lambda row: np.abs(row[0])) #now weights are sorted by their abs valuem, with their original feature number next to them\n",
        "result = (np.array(weights_abs_sorted))\n",
        "feature_names = (data.columns)\n",
        "\n",
        "print(result)\n",
        "\n",
        "accepted_filter = []\n",
        "for ind in range (5):\n",
        "    temp = feature_names[int(result[-ind-1][1])]\n",
        "    print(temp)\n",
        "    accepted_filter.append(temp)\n"
      ],
      "metadata": {
        "colab": {
          "base_uri": "https://localhost:8080/"
        },
        "id": "CzOYd7KHs6ZT",
        "outputId": "bdc56508-9b95-4bec-86e4-43fc673d866e"
      },
      "execution_count": 254,
      "outputs": [
        {
          "output_type": "stream",
          "name": "stdout",
          "text": [
            "[[ 6.76014294e-03  1.30000000e+01]\n",
            " [-1.97655463e-02  0.00000000e+00]\n",
            " [ 8.38977731e-02  8.00000000e+00]\n",
            " [ 1.05348923e-01  2.00000000e+00]\n",
            " [-1.31396655e-01  1.20000000e+01]\n",
            " [ 2.18973331e-01  1.10000000e+01]\n",
            " [ 2.46848950e-01  9.00000000e+00]\n",
            " [ 3.01657412e-01  7.00000000e+00]\n",
            " [-3.99697920e-01  1.70000000e+01]\n",
            " [-6.26741546e-01  1.00000000e+00]\n",
            " [-6.75113840e-01  1.60000000e+01]\n",
            " [ 7.25221058e-01  1.00000000e+01]\n",
            " [-7.71205962e-01  1.40000000e+01]\n",
            " [ 7.82265956e-01  1.50000000e+01]\n",
            " [ 9.96515871e-01  4.00000000e+00]\n",
            " [-1.17321460e+00  3.00000000e+00]\n",
            " [-1.35710939e+00  5.00000000e+00]\n",
            " [-2.24955266e+00  6.00000000e+00]]\n",
            "gill-size\n",
            "gill-spacing\n",
            "bruises\n",
            "odor\n",
            "spore-print-color\n"
          ]
        }
      ]
    },
    {
      "cell_type": "markdown",
      "source": [
        "Let's put these results a nicely labeled graph and see for ourselves. "
      ],
      "metadata": {
        "id": "XGKyzj9R3E0b"
      }
    },
    {
      "cell_type": "code",
      "source": [
        "unsorted_x = feature_names\n",
        "unsorted_y = np.abs(weights.reshape(weights.shape[0]))\n",
        "\n",
        "plt.rcParams[\"figure.figsize\"] = (15, 5)\n",
        "fig = plt.figure()\n",
        "ax = fig.add_axes([0,0,1,1])\n",
        "ax.bar(unsorted_x,unsorted_y)\n",
        "for index in range(5):\n",
        "    ax.get_children()[int(result[-index-1][1])].set_color('r')\n",
        "\n",
        "plt.title(\"Estimated Influence of Each Feature\")\n",
        "plt.xlabel('Feature Name')\n",
        "plt.ylabel('Absolute value of feature weight on 1 one-node hidden layer neural network with sig activation')\n",
        "plt.setp(ax.get_xticklabels(), rotation=30, horizontalalignment='right')\n",
        "plt.show()"
      ],
      "metadata": {
        "colab": {
          "base_uri": "https://localhost:8080/",
          "height": 540
        },
        "id": "27J_BmfV3KlM",
        "outputId": "61c0e268-41e5-46e7-f86a-53efe857a119"
      },
      "execution_count": 255,
      "outputs": [
        {
          "output_type": "display_data",
          "data": {
            "image/png": "[encoded data removed]",
            "text/plain": [
              "<Figure size 1080x360 with 1 Axes>"
            ]
          },
          "metadata": {
            "needs_background": "light"
          }
        }
      ]
    },
    {
      "cell_type": "markdown",
      "source": [
        "Now, we see that the top 5 influential weights. Let's see if we are able to use just these 5 features to construct a good enough model. "
      ],
      "metadata": {
        "id": "nYYilzW_uQrz"
      }
    },
    {
      "cell_type": "code",
      "source": [
        "X_new = data[accepted_filter].to_numpy()\n",
        "\n",
        "#70% train, 30%test\n",
        "X_new_train, X_new_test, y_new_train, y_new_test = train_test_split(X_new, y,test_size=0.30,random_state=1)\n",
        "\n",
        "#scaling x \n",
        "scaler = preprocessing.StandardScaler()\n",
        "X_new_train= scaler.fit_transform(X_new_train)\n",
        "X_new_test = scaler.transform(X_new_test)"
      ],
      "metadata": {
        "id": "BDS1QeVIv3oe"
      },
      "execution_count": 256,
      "outputs": []
    },
    {
      "cell_type": "code",
      "source": [
        "for cell in range (1,21):\n",
        "    tanh_nn = MLPClassifier(hidden_layer_sizes=(cell,),activation=\"relu\",solver='adam',max_iter=1000)\n",
        "    tanh_nn.fit(X_new_train,y_new_train)\n",
        "\n",
        "    print(cell,\"cells, acc=\",tanh_nn.score(X_new_test,y_new_test))"
      ],
      "metadata": {
        "colab": {
          "base_uri": "https://localhost:8080/"
        },
        "id": "XqvP9CGiwxCd",
        "outputId": "9cc4a059-b39c-4331-f213-113464cbd899"
      },
      "execution_count": 258,
      "outputs": [
        {
          "output_type": "stream",
          "name": "stdout",
          "text": [
            "1 cells, acc= 0.9532403609515997\n",
            "2 cells, acc= 0.9532403609515997\n",
            "3 cells, acc= 0.9708777686628384\n",
            "4 cells, acc= 0.9938474159146842\n",
            "5 cells, acc= 0.9987694831829368\n",
            "6 cells, acc= 0.9987694831829368\n",
            "7 cells, acc= 0.9987694831829368\n",
            "8 cells, acc= 0.9987694831829368\n",
            "9 cells, acc= 0.9987694831829368\n",
            "10 cells, acc= 0.9987694831829368\n",
            "11 cells, acc= 0.9987694831829368\n",
            "12 cells, acc= 0.9987694831829368\n",
            "13 cells, acc= 0.9987694831829368\n",
            "14 cells, acc= 0.9987694831829368\n",
            "15 cells, acc= 0.9987694831829368\n",
            "16 cells, acc= 0.9987694831829368\n",
            "17 cells, acc= 0.9987694831829368\n",
            "18 cells, acc= 0.9987694831829368\n",
            "19 cells, acc= 0.9987694831829368\n",
            "20 cells, acc= 0.9987694831829368\n"
          ]
        }
      ]
    },
    {
      "cell_type": "markdown",
      "source": [
        "Workable, but acc seems to not increase after 5 cells. Let's see what if we add another hidden layer on top? "
      ],
      "metadata": {
        "id": "QTvNbhbK1GV-"
      }
    },
    {
      "cell_type": "code",
      "source": [
        "for cell in range (1,11):\n",
        "    tanh_nn = MLPClassifier(hidden_layer_sizes=(10,cell),activation=\"relu\",solver='adam',max_iter=1000)\n",
        "    tanh_nn.fit(X_new_train,y_new_train)\n",
        "\n",
        "    print(cell,\"cells, acc=\",tanh_nn.score(X_new_test,y_new_test))"
      ],
      "metadata": {
        "colab": {
          "base_uri": "https://localhost:8080/"
        },
        "id": "x74yjrlABGxj",
        "outputId": "1c562a93-8c37-48c9-f76e-ac37ca60d148"
      },
      "execution_count": 260,
      "outputs": [
        {
          "output_type": "stream",
          "name": "stdout",
          "text": [
            "1 cells, acc= 0.9684167350287121\n",
            "2 cells, acc= 0.9987694831829368\n",
            "3 cells, acc= 0.9987694831829368\n",
            "4 cells, acc= 0.9228876127973749\n",
            "5 cells, acc= 0.9343724364232978\n",
            "6 cells, acc= 0.9987694831829368\n",
            "7 cells, acc= 0.9987694831829368\n",
            "8 cells, acc= 0.9987694831829368\n",
            "9 cells, acc= 0.9987694831829368\n",
            "10 cells, acc= 0.9987694831829368\n"
          ]
        }
      ]
    },
    {
      "cell_type": "markdown",
      "source": [
        "We see that despite our best efforts, we are unable to improve the mean accuracy further than 0.9988 with only 5 features. Even though this is not the mean acc of 1 that we had with 20 features, it shall suffice."
      ],
      "metadata": {
        "id": "2iK8RVv51eF-"
      }
    },
    {
      "cell_type": "code",
      "source": [
        "print(accepted_filter)"
      ],
      "metadata": {
        "colab": {
          "base_uri": "https://localhost:8080/"
        },
        "id": "wkam_GO91qLQ",
        "outputId": "2ed3c687-b13e-4379-988d-338938a7fece"
      },
      "execution_count": 262,
      "outputs": [
        {
          "output_type": "stream",
          "name": "stdout",
          "text": [
            "['gill-size', 'gill-spacing', 'bruises', 'odor', 'spore-print-color']\n"
          ]
        }
      ]
    },
    {
      "cell_type": "code",
      "source": [
        "X_new = data[accepted_filter].to_numpy()\n",
        "\n",
        "#70% train, 30%test\n",
        "X_new_train, X_new_test, y_new_train, y_new_test = train_test_split(X_new, y,test_size=0.30,random_state=1)\n",
        "\n",
        "#scaling x \n",
        "scaler = preprocessing.StandardScaler()\n",
        "X_new_train= scaler.fit_transform(X_new_train)\n",
        "X_new_test = scaler.transform(X_new_test)\n",
        "\n",
        "\n",
        "nn = MLPClassifier(hidden_layer_sizes = (20,),activation=\"logistic\",solver=\"adam\",max_iter=1000)\n",
        "nn.fit(X_new_train,y_new_train)\n",
        "\n",
        "y_pred = nn.predict(X_new_test)\n",
        "nn_score = nn.score(X_new_test,y_new_test)\n",
        "y_pred_proba = nn.predict_proba(X_new_test)\n",
        "\n",
        "print(nn_score)\n",
        "print(\"w: \",one_nn.coefs_)\n",
        "print(\"b: \",one_nn.intercepts_)"
      ],
      "metadata": {
        "colab": {
          "base_uri": "https://localhost:8080/"
        },
        "id": "V66qpCzm1vwr",
        "outputId": "874f82c2-9cd0-48c3-de9b-dee2ec6c3e22"
      },
      "execution_count": 263,
      "outputs": [
        {
          "output_type": "stream",
          "name": "stdout",
          "text": [
            "0.9987694831829368\n",
            "w:  [array([[-0.01976555],\n",
            "       [-0.62674155],\n",
            "       [ 0.10534892],\n",
            "       [-1.1732146 ],\n",
            "       [ 0.99651587],\n",
            "       [-1.35710939],\n",
            "       [-2.24955266],\n",
            "       [ 0.30165741],\n",
            "       [ 0.08389777],\n",
            "       [ 0.24684895],\n",
            "       [ 0.72522106],\n",
            "       [ 0.21897333],\n",
            "       [-0.13139666],\n",
            "       [ 0.00676014],\n",
            "       [-0.77120596],\n",
            "       [ 0.78226596],\n",
            "       [-0.67511384],\n",
            "       [-0.39969792]]), array([[2.45525831]])]\n",
            "b:  [array([-0.6978953]), array([-1.084528])]\n"
          ]
        }
      ]
    }
  ]
}