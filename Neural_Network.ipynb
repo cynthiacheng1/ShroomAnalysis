{
  "nbformat": 4,
  "nbformat_minor": 0,
  "metadata": {
    "colab": {
      "name": "Neural_Network.ipynb",
      "provenance": []
    },
    "kernelspec": {
      "name": "python3",
      "display_name": "Python 3"
    },
    "language_info": {
      "name": "python"
    }
  },
  "cells": [
    {
      "cell_type": "markdown",
      "metadata": {
        "id": "laJpdcBP2leK"
      },
      "source": [
        "#NEURAL NETWORK \n",
        "NOTE: All models here use L2 regularisation with penalty = 0.0001.\n",
        "First, we set up the libraries."
      ]
    },
    {
      "cell_type": "code",
      "metadata": {
        "id": "3jPN6Adg2t8R"
      },
      "source": [
        "from sklearn.neural_network import MLPClassifier\n",
        "from sklearn.datasets import make_classification\n",
        "from sklearn.model_selection import train_test_split\n",
        "from sklearn import preprocessing\n",
        "import pandas as pd\n",
        "import numpy as np\n",
        "import math\n",
        "import matplotlib.pyplot as plt \n",
        "\n",
        "%matplotlib inline"
      ],
      "execution_count": null,
      "outputs": []
    },
    {
      "cell_type": "code",
      "metadata": {
        "id": "mOdJ-6jI8nsd"
      },
      "source": [
        "df = pd.read_csv(\"https://raw.githubusercontent.com/cynthiacheng1/ShroomAnalysis/main/mushrooms.csv\")"
      ],
      "execution_count": null,
      "outputs": []
    },
    {
      "cell_type": "code",
      "metadata": {
        "colab": {
          "base_uri": "https://localhost:8080/"
        },
        "id": "CU7J-RhP9Dd7",
        "outputId": "f496f0be-f3ae-49e6-c535-e2a71f01c474"
      },
      "source": [
        "#Load the data / Preprocessing\n",
        "\n",
        "#Features\n",
        "data = df.drop(\"class\",axis=1)\n",
        "filters = [\"gill-attachment\",\"veil-type\",\"veil-color\",\"ring-number\"] #features to be excluded, found through constant and quasi-constant filtering\n",
        "data = data.drop(columns=filters)\n",
        "print(data.head)\n",
        "\n",
        "def to_digit(i):\n",
        "    if i in chars:\n",
        "        return chars[i]\n",
        "    else:\n",
        "        chars[i] = len(chars)+1\n",
        "        return chars[i]\n",
        "\n",
        "features = list(data.columns)\n",
        "for idx in features:\n",
        "    chars = {}\n",
        "    data[idx] = data[idx].map(to_digit)\n",
        "\n",
        "print(data.head)\n",
        "\n",
        "#Target\n",
        "target = df[\"class\"]\n",
        "target = target.replace(\"e\",0)\n",
        "target = target.replace(\"p\",1)\n",
        "print (target.head)\n"
      ],
      "execution_count": null,
      "outputs": [
        {
          "output_type": "stream",
          "name": "stdout",
          "text": [
            "<bound method NDFrame.head of      cap-shape cap-surface cap-color  ... spore-print-color population habitat\n",
            "0            x           s         n  ...                 k          s       u\n",
            "1            x           s         y  ...                 n          n       g\n",
            "2            b           s         w  ...                 n          n       m\n",
            "3            x           y         w  ...                 k          s       u\n",
            "4            x           s         g  ...                 n          a       g\n",
            "...        ...         ...       ...  ...               ...        ...     ...\n",
            "8119         k           s         n  ...                 b          c       l\n",
            "8120         x           s         n  ...                 b          v       l\n",
            "8121         f           s         n  ...                 b          c       l\n",
            "8122         k           y         n  ...                 w          v       l\n",
            "8123         x           s         n  ...                 o          c       l\n",
            "\n",
            "[8124 rows x 18 columns]>\n",
            "<bound method NDFrame.head of       cap-shape  cap-surface  cap-color  ...  spore-print-color  population  habitat\n",
            "0             1            1          1  ...                  1           1        1\n",
            "1             1            1          2  ...                  2           2        2\n",
            "2             2            1          3  ...                  2           2        3\n",
            "3             1            2          3  ...                  1           1        1\n",
            "4             1            1          4  ...                  2           3        2\n",
            "...         ...          ...        ...  ...                ...         ...      ...\n",
            "8119          5            1          1  ...                  9           6        7\n",
            "8120          1            1          1  ...                  9           4        7\n",
            "8121          4            1          1  ...                  9           6        7\n",
            "8122          5            2          1  ...                  5           4        7\n",
            "8123          1            1          1  ...                  7           6        7\n",
            "\n",
            "[8124 rows x 18 columns]>\n",
            "<bound method NDFrame.head of 0       1\n",
            "1       0\n",
            "2       0\n",
            "3       1\n",
            "4       0\n",
            "       ..\n",
            "8119    0\n",
            "8120    0\n",
            "8121    0\n",
            "8122    1\n",
            "8123    0\n",
            "Name: class, Length: 8124, dtype: int64>\n"
          ]
        }
      ]
    },
    {
      "cell_type": "markdown",
      "metadata": {
        "id": "CCet_5LsCcGh"
      },
      "source": [
        "# Data Preprocessing"
      ]
    },
    {
      "cell_type": "code",
      "metadata": {
        "id": "mlvyJRyKCb3w"
      },
      "source": [
        "\n",
        "X= data.to_numpy()\n",
        "y = target.to_numpy()\n",
        "\n",
        "#70% train, 30%test\n",
        "X_train, X_test, y_train, y_test = train_test_split(X, y,test_size=0.30,random_state=1)\n",
        "\n",
        "#scaling x \n",
        "scaler = preprocessing.StandardScaler()\n",
        "X_train= scaler.fit_transform(X_train)\n",
        "X_test = scaler.transform(X_test)\n"
      ],
      "execution_count": null,
      "outputs": []
    },
    {
      "cell_type": "markdown",
      "metadata": {
        "id": "m2vAUTqZDJSC"
      },
      "source": [
        "# Sigmoid activation\n",
        "We are goin to start with one 20-cell hidden layer, with the stoichastic gradient descent solver."
      ]
    },
    {
      "cell_type": "code",
      "metadata": {
        "id": "Vj9cBlCYDXxa"
      },
      "source": [
        "sig_nn = MLPClassifier(hidden_layer_sizes=(20,),activation=\"logistic\",solver=\"adam\",shuffle=False,max_iter=1000,random_state=1)\n",
        "sig_nn.fit(X_train,y_train)\n",
        "\n",
        "y_pred = sig_nn.predict(X_test)\n",
        "sig_nn_score = sig_nn.score(X_test,y_test)\n",
        "y_pred_proba = sig_nn.predict_proba(X_test)\n"
      ],
      "execution_count": null,
      "outputs": []
    },
    {
      "cell_type": "code",
      "metadata": {
        "colab": {
          "base_uri": "https://localhost:8080/"
        },
        "id": "ffGj9LQdNvHc",
        "outputId": "bd198077-41ab-45f8-9a6d-71d308f7da97"
      },
      "source": [
        "print(sig_nn_score)\n",
        "#print(\"w: \",sig_nn.coefs_)\n",
        "#print(\"b: \",sig_nn.intercepts_)"
      ],
      "execution_count": null,
      "outputs": [
        {
          "output_type": "stream",
          "name": "stdout",
          "text": [
            "0.9995898277276456\n"
          ]
        }
      ]
    },
    {
      "cell_type": "markdown",
      "metadata": {
        "id": "5jVgql4GLjW4"
      },
      "source": [
        "Now we know logistic with 1 20-cell hidden layer works, let's see how low we can lower the cell count while maintaining high acc."
      ]
    },
    {
      "cell_type": "code",
      "metadata": {
        "colab": {
          "base_uri": "https://localhost:8080/"
        },
        "id": "B47jKJqfN7AJ",
        "outputId": "69ba319f-e772-4fe4-fcba-21694de46d1c"
      },
      "source": [
        "for cell in range (1,21):\n",
        "    sig_nn = MLPClassifier(hidden_layer_sizes=(cell,),activation=\"logistic\",solver=\"adam\",max_iter=1000,shuffle=False,random_state=1)\n",
        "    sig_nn.fit(X_train,y_train)\n",
        "\n",
        "    print(cell,\"cells, acc=\",sig_nn.score(X_test,y_test))"
      ],
      "execution_count": null,
      "outputs": [
        {
          "output_type": "stream",
          "name": "stdout",
          "text": [
            "1 cells, acc= 0.9835931091058244\n",
            "2 cells, acc= 0.994667760459393\n",
            "3 cells, acc= 0.9950779327317474\n",
            "4 cells, acc= 0.9950779327317474\n",
            "5 cells, acc= 0.9938474159146842\n",
            "6 cells, acc= 1.0\n",
            "7 cells, acc= 1.0\n",
            "8 cells, acc= 0.9995898277276456\n",
            "9 cells, acc= 0.9995898277276456\n",
            "10 cells, acc= 1.0\n",
            "11 cells, acc= 1.0\n",
            "12 cells, acc= 0.9995898277276456\n",
            "13 cells, acc= 1.0\n",
            "14 cells, acc= 0.9991796554552912\n",
            "15 cells, acc= 1.0\n",
            "16 cells, acc= 0.9995898277276456\n",
            "17 cells, acc= 0.9995898277276456\n",
            "18 cells, acc= 1.0\n",
            "19 cells, acc= 1.0\n",
            "20 cells, acc= 0.9995898277276456\n"
          ]
        }
      ]
    },
    {
      "cell_type": "markdown",
      "source": [
        ""
      ],
      "metadata": {
        "id": "om4WwTYPJADj"
      }
    },
    {
      "cell_type": "markdown",
      "metadata": {
        "id": "SBUybEUfmoFJ"
      },
      "source": [
        "Just 6 cells work!"
      ]
    },
    {
      "cell_type": "code",
      "metadata": {
        "colab": {
          "base_uri": "https://localhost:8080/"
        },
        "id": "DUluoSACatvy",
        "outputId": "5243c18d-7f83-4479-c18d-a139e7a06827"
      },
      "source": [
        "sig_nn = MLPClassifier(hidden_layer_sizes=(6,),activation=\"logistic\",solver=\"adam\",max_iter=1000,shuffle=False,random_state=1)\n",
        "sig_nn.fit(X_train,y_train)\n",
        "\n",
        "y_pred = sig_nn.predict(X_test)\n",
        "sig_nn_score = sig_nn.score(X_test,y_test)\n",
        "y_pred_proba = sig_nn.predict_proba(X_test)\n",
        "\n",
        "print(sig_nn_score)\n",
        "#print(\"w: \",sig_nn.coefs_)\n",
        "#print(\"b: \",sig_nn.intercepts_)"
      ],
      "execution_count": null,
      "outputs": [
        {
          "output_type": "stream",
          "name": "stdout",
          "text": [
            "1.0\n"
          ]
        }
      ]
    },
    {
      "cell_type": "markdown",
      "metadata": {
        "id": "kDL4JpnGbVeB"
      },
      "source": [
        "# TanH Activation\n",
        "\n",
        "Same thing, we start with one 20-node layer."
      ]
    },
    {
      "cell_type": "code",
      "metadata": {
        "id": "bNrGahG5be_a"
      },
      "source": [
        "tanh_nn = MLPClassifier(hidden_layer_sizes=(20,),activation=\"tanh\",solver=\"adam\",max_iter=1000,shuffle=False,random_state=1)\n",
        "tanh_nn.fit(X_train,y_train)\n",
        "\n",
        "y_pred = tanh_nn.predict(X_test)\n",
        "tanh_score = tanh_nn.score(X_test,y_test)\n",
        "y_pred_proba = tanh_nn.predict_proba(X_test)\n"
      ],
      "execution_count": null,
      "outputs": []
    },
    {
      "cell_type": "code",
      "metadata": {
        "colab": {
          "base_uri": "https://localhost:8080/"
        },
        "id": "Zh42jcQAbhck",
        "outputId": "63a224a3-7dda-4725-b730-634aa6cc5765"
      },
      "source": [
        "print(tanh_score)\n",
        "#print(\"w: \",tanh_nn.coefs_)\n",
        "#print(\"b: \",tanh_nn.intercepts_)"
      ],
      "execution_count": null,
      "outputs": [
        {
          "output_type": "stream",
          "name": "stdout",
          "text": [
            "0.9995898277276456\n"
          ]
        }
      ]
    },
    {
      "cell_type": "markdown",
      "metadata": {
        "id": "aHqKDNaPdRR4"
      },
      "source": [
        "TanH also works as we imagined, now let's see if we can lower that cell count."
      ]
    },
    {
      "cell_type": "code",
      "metadata": {
        "colab": {
          "base_uri": "https://localhost:8080/"
        },
        "id": "kF5hAiIBeL-Z",
        "outputId": "a27239de-7390-42fe-808d-6d8cc8259bf5"
      },
      "source": [
        "for cell in range (1,21):\n",
        "    #we use lbfgs because the stoichastic one does not converge before cell size 20\n",
        "    tanh_nn = MLPClassifier(hidden_layer_sizes=(cell,),activation=\"tanh\",solver=\"adam\",max_iter=1000,shuffle=False,random_state=1)\n",
        "    tanh_nn.fit(X_train,y_train)\n",
        "\n",
        "    print(cell,\"cells, acc=\",tanh_nn.score(X_test,y_test))"
      ],
      "execution_count": null,
      "outputs": [
        {
          "output_type": "stream",
          "name": "stdout",
          "text": [
            "1 cells, acc= 0.9716981132075472\n",
            "2 cells, acc= 0.9983593109105825\n",
            "3 cells, acc= 1.0\n",
            "4 cells, acc= 0.9942575881870386\n",
            "5 cells, acc= 0.9991796554552912\n",
            "6 cells, acc= 1.0\n",
            "7 cells, acc= 1.0\n",
            "8 cells, acc= 1.0\n",
            "9 cells, acc= 1.0\n",
            "10 cells, acc= 1.0\n",
            "11 cells, acc= 1.0\n",
            "12 cells, acc= 1.0\n",
            "13 cells, acc= 1.0\n",
            "14 cells, acc= 1.0\n",
            "15 cells, acc= 1.0\n",
            "16 cells, acc= 1.0\n",
            "17 cells, acc= 1.0\n",
            "18 cells, acc= 1.0\n",
            "19 cells, acc= 1.0\n",
            "20 cells, acc= 0.9995898277276456\n"
          ]
        }
      ]
    },
    {
      "cell_type": "markdown",
      "metadata": {
        "id": "sg_8ITo5mrlN"
      },
      "source": [
        "Same thing here, just 6 cells work!"
      ]
    },
    {
      "cell_type": "code",
      "metadata": {
        "colab": {
          "base_uri": "https://localhost:8080/"
        },
        "id": "TEY6D1krmwIC",
        "outputId": "105e0be6-0550-41c3-a448-cee53349513b"
      },
      "source": [
        "tanh_nn = MLPClassifier(hidden_layer_sizes=(6,),activation=\"tanh\",solver=\"adam\",max_iter=1000,shuffle=False,random_state=1)\n",
        "tanh_nn.fit(X_train,y_train)\n",
        "\n",
        "y_pred = tanh_nn.predict(X_test)\n",
        "tanh_nn_score = tanh_nn.score(X_test,y_test)\n",
        "y_pred_proba = tanh_nn.predict_proba(X_test)\n",
        "\n",
        "print(tanh_nn_score)\n",
        "#print(\"w: \",tanh_nn.coefs_)\n",
        "#print(\"b: \",tanh_nn.intercepts_)"
      ],
      "execution_count": null,
      "outputs": [
        {
          "output_type": "stream",
          "name": "stdout",
          "text": [
            "1.0\n"
          ]
        }
      ]
    },
    {
      "cell_type": "markdown",
      "metadata": {
        "id": "tsftllA7PhU3"
      },
      "source": [
        "# Finally, the ReLu Activation \n",
        "\n",
        "Same as before <3"
      ]
    },
    {
      "cell_type": "code",
      "metadata": {
        "id": "KnC-RM04djH0"
      },
      "source": [
        "relu_nn = MLPClassifier(hidden_layer_sizes=(20,),activation=\"relu\",solver=\"adam\",max_iter=1000,shuffle=False,random_state=1)\n",
        "relu_nn.fit(X_train,y_train)\n",
        "\n",
        "y_pred = relu_nn.predict(X_test)\n",
        "relu_score = relu_nn.score(X_test,y_test)\n",
        "y_pred_proba = relu_nn.predict_proba(X_test)\n"
      ],
      "execution_count": null,
      "outputs": []
    },
    {
      "cell_type": "code",
      "metadata": {
        "colab": {
          "base_uri": "https://localhost:8080/"
        },
        "id": "PE8yLEAF2BMq",
        "outputId": "b0a1b400-0c3b-4177-c8c8-7da646929673"
      },
      "source": [
        "print(relu_score)\n",
        "#print(\"w: \",relu_nn.coefs_)\n",
        "#print(\"b: \",relu_nn.intercepts_)"
      ],
      "execution_count": null,
      "outputs": [
        {
          "output_type": "stream",
          "name": "stdout",
          "text": [
            "1.0\n"
          ]
        }
      ]
    },
    {
      "cell_type": "markdown",
      "metadata": {
        "id": "u4i5_NQa2S2I"
      },
      "source": [
        "Now we test for least nodes"
      ]
    },
    {
      "cell_type": "code",
      "source": [
        "for cell in range (1,21):\n",
        "    #we use lbfgs because the stoichastic one does not converge before cell size 20\n",
        "    relu_nn = MLPClassifier(hidden_layer_sizes=(cell,),activation=\"relu\",solver=\"adam\",max_iter=1000,shuffle=False,random_state=1)\n",
        "    relu_nn.fit(X_train,y_train)\n",
        "\n",
        "    print(cell,\"cells, acc=\",relu_nn.score(X_test,y_test))"
      ],
      "metadata": {
        "colab": {
          "base_uri": "https://localhost:8080/"
        },
        "id": "JfiAGs55_oOq",
        "outputId": "5a1bcd4e-21d2-450d-de24-02983d41f3d9"
      },
      "execution_count": null,
      "outputs": [
        {
          "output_type": "stream",
          "name": "stdout",
          "text": [
            "1 cells, acc= 0.9815422477440525\n",
            "2 cells, acc= 0.9815422477440525\n",
            "3 cells, acc= 0.9995898277276456\n",
            "4 cells, acc= 0.9803117309269893\n",
            "5 cells, acc= 1.0\n",
            "6 cells, acc= 1.0\n",
            "7 cells, acc= 1.0\n",
            "8 cells, acc= 0.9983593109105825\n",
            "9 cells, acc= 1.0\n",
            "10 cells, acc= 1.0\n",
            "11 cells, acc= 1.0\n",
            "12 cells, acc= 0.9991796554552912\n",
            "13 cells, acc= 1.0\n",
            "14 cells, acc= 1.0\n",
            "15 cells, acc= 1.0\n",
            "16 cells, acc= 1.0\n",
            "17 cells, acc= 1.0\n",
            "18 cells, acc= 0.9995898277276456\n",
            "19 cells, acc= 0.9995898277276456\n",
            "20 cells, acc= 1.0\n"
          ]
        }
      ]
    },
    {
      "cell_type": "markdown",
      "source": [
        "6 nodes work.\n",
        "\n",
        "Something worth noting is that more nodes does not neccessarily mean a higher accuracy. "
      ],
      "metadata": {
        "id": "tNxrbfiJBNJx"
      }
    },
    {
      "cell_type": "code",
      "source": [
        "relu_nn = MLPClassifier(hidden_layer_sizes=(5,),activation=\"relu\",solver=\"adam\",max_iter=1000,shuffle=False,random_state=1)\n",
        "relu_nn.fit(X_train,y_train)\n",
        "\n",
        "y_pred = relu_nn.predict(X_test)\n",
        "relu_nn_score = relu_nn.score(X_test,y_test)\n",
        "y_pred_proba = relu_nn.predict_proba(X_test)\n",
        "\n",
        "print(relu_nn_score)\n",
        "#print(\"w: \",relu_nn.coefs_)\n",
        "#print(\"b: \",relu_nn.intercepts_)"
      ],
      "metadata": {
        "colab": {
          "base_uri": "https://localhost:8080/"
        },
        "id": "eNWKHYayANhJ",
        "outputId": "d9295165-29b1-4aec-f69a-8090446a3995"
      },
      "execution_count": null,
      "outputs": [
        {
          "output_type": "stream",
          "name": "stdout",
          "text": [
            "1.0\n"
          ]
        }
      ]
    },
    {
      "cell_type": "markdown",
      "source": [
        "# Feature Importance Estimation & Feature Reduction\n",
        "Since our data is linearly seperable, there is not much we can do in terms of optimisation. So instead, let's see if there is any way we can figure out which input features are the most important and which features are least important in determining the output of the model. "
      ],
      "metadata": {
        "id": "kCfCRsBHI_0J"
      }
    },
    {
      "cell_type": "markdown",
      "source": [
        "Our first, very naive approach will be to use one hidden layer with one node, this way we can get a very clear view of how much each input node contributes."
      ],
      "metadata": {
        "id": "WM0Dwzs3l-Ch"
      }
    },
    {
      "cell_type": "code",
      "source": [
        "one_nn = MLPClassifier(hidden_layer_sizes=(1,),activation=\"logistic\",solver='adam',max_iter=1000,shuffle=False,random_state=1)\n",
        "#using logistic because it has highest avg mean at one node, p ~ 98.36"
      ],
      "metadata": {
        "id": "--K375CQl9yX"
      },
      "execution_count": null,
      "outputs": []
    },
    {
      "cell_type": "code",
      "source": [
        "one_nn.fit(X_train,y_train)\n",
        "\n",
        "y_pred = one_nn.predict(X_test)\n",
        "one_nn_score = one_nn.score(X_test,y_test)\n",
        "y_pred_proba = one_nn.predict_proba(X_test)\n",
        "\n",
        "print(one_nn_score)\n",
        "#print(\"w: \",one_nn.coefs_)\n",
        "#print(\"b: \",one_nn.intercepts_)\n"
      ],
      "metadata": {
        "colab": {
          "base_uri": "https://localhost:8080/"
        },
        "id": "gYYgvtxaAOIm",
        "outputId": "0ece5166-db7d-4d46-b22e-9a5ad76d0aec"
      },
      "execution_count": null,
      "outputs": [
        {
          "output_type": "stream",
          "name": "stdout",
          "text": [
            "0.9835931091058244\n"
          ]
        }
      ]
    },
    {
      "cell_type": "code",
      "source": [
        "feature_count_to_reduce_to = 18\n",
        "\n",
        "weights = one_nn.coefs_[0]\n",
        "temp = np.arange(weights.shape[0])\n",
        "temp = temp.reshape((weights.shape[0],1))\n",
        "\n",
        "weights_binded = np.hstack((weights,temp)) #next to each weight, is the feature number\n",
        "\n",
        "\n",
        "weights_abs_sorted = sorted(weights_binded,key=lambda row: np.abs(row[0])) #now weights are sorted by their abs valuem, with their original feature number next to them\n",
        "result = (np.array(weights_abs_sorted))\n",
        "feature_names = (data.columns)\n",
        "\n",
        "print(result)\n",
        "\n",
        "accepted_filter = []\n",
        "for ind in range (feature_count_to_reduce_to):\n",
        "    temp = feature_names[int(result[-ind-1][1])]\n",
        "    print(temp)\n",
        "    accepted_filter.append(temp)\n",
        "\n",
        "print(result[:,0][-1::-1])\n"
      ],
      "metadata": {
        "colab": {
          "base_uri": "https://localhost:8080/"
        },
        "id": "CzOYd7KHs6ZT",
        "outputId": "4c888c9b-416f-4fa2-ce8d-8862a623e19c"
      },
      "execution_count": null,
      "outputs": [
        {
          "output_type": "stream",
          "name": "stdout",
          "text": [
            "[[-1.36308884e-02  1.00000000e+00]\n",
            " [ 1.38500349e-02  2.00000000e+00]\n",
            " [-1.53860837e-01  1.60000000e+01]\n",
            " [-1.86675163e-01  0.00000000e+00]\n",
            " [-2.35572669e-01  7.00000000e+00]\n",
            " [-3.18277432e-01  1.20000000e+01]\n",
            " [-5.14933439e-01  1.00000000e+01]\n",
            " [ 8.29235933e-01  8.00000000e+00]\n",
            " [ 1.03857821e+00  3.00000000e+00]\n",
            " [-1.40807256e+00  1.10000000e+01]\n",
            " [ 1.50913558e+00  1.30000000e+01]\n",
            " [-1.80742048e+00  1.40000000e+01]\n",
            " [-2.05756897e+00  1.50000000e+01]\n",
            " [ 2.19577682e+00  9.00000000e+00]\n",
            " [ 2.21025935e+00  5.00000000e+00]\n",
            " [ 2.47286575e+00  1.70000000e+01]\n",
            " [-4.49372073e+00  4.00000000e+00]\n",
            " [ 5.01197508e+00  6.00000000e+00]]\n",
            "gill-size\n",
            "odor\n",
            "habitat\n",
            "gill-spacing\n",
            "stalk-root\n",
            "spore-print-color\n",
            "ring-type\n",
            "stalk-color-below-ring\n",
            "stalk-surface-below-ring\n",
            "bruises\n",
            "stalk-shape\n",
            "stalk-surface-above-ring\n",
            "stalk-color-above-ring\n",
            "gill-color\n",
            "cap-shape\n",
            "population\n",
            "cap-color\n",
            "cap-surface\n",
            "[ 5.01197508 -4.49372073  2.47286575  2.21025935  2.19577682 -2.05756897\n",
            " -1.80742048  1.50913558 -1.40807256  1.03857821  0.82923593 -0.51493344\n",
            " -0.31827743 -0.23557267 -0.18667516 -0.15386084  0.01385003 -0.01363089]\n"
          ]
        }
      ]
    },
    {
      "cell_type": "markdown",
      "source": [
        "Let's put these results a nicely labeled graph and see for ourselves. "
      ],
      "metadata": {
        "id": "XGKyzj9R3E0b"
      }
    },
    {
      "cell_type": "code",
      "source": [
        "unsorted_x = feature_names\n",
        "unsorted_y = np.abs(weights.reshape(weights.shape[0]))\n",
        "\n",
        "plt.rcParams[\"figure.figsize\"] = (15, 5)\n",
        "fig = plt.figure()\n",
        "ax = fig.add_axes([0,0,1,1])\n",
        "ax.bar(unsorted_x,unsorted_y)\n",
        "for index in range(feature_count_to_reduce_to):\n",
        "    ax.get_children()[int(result[-index-1][1])].set_color('r')\n",
        "\n",
        "plt.title(\"Estimated Influence of Each Feature\")\n",
        "plt.xlabel('Feature Name')\n",
        "plt.ylabel('Absolute value of feature weight on 1 one-node hidden layer neural network with sig activation')\n",
        "plt.setp(ax.get_xticklabels(), rotation=30, horizontalalignment='right')\n",
        "plt.show()"
      ],
      "metadata": {
        "colab": {
          "base_uri": "https://localhost:8080/",
          "height": 540
        },
        "id": "27J_BmfV3KlM",
        "outputId": "e8ac9e92-4192-4253-b489-9d1f32f31439"
      },
      "execution_count": null,
      "outputs": [
        {
          "output_type": "display_data",
          "data": {
            "image/png": "[encoded data removed]",
            "text/plain": [
              "<Figure size 1080x360 with 1 Axes>"
            ]
          },
          "metadata": {
            "needs_background": "light"
          }
        }
      ]
    },
    {
      "cell_type": "markdown",
      "source": [
        "Now, we see that the top 9 influential weights. Let's see if we are able to use just these 9 features to construct a good enough model. "
      ],
      "metadata": {
        "id": "nYYilzW_uQrz"
      }
    },
    {
      "cell_type": "code",
      "source": [
        "X_new = data[accepted_filter].to_numpy()\n",
        "\n",
        "#70% train, 30%test\n",
        "X_new_train, X_new_test, y_new_train, y_new_test = train_test_split(X_new, y,test_size=0.30,random_state=1)\n",
        "\n",
        "#scaling x \n",
        "scaler = preprocessing.StandardScaler()\n",
        "X_new_train= scaler.fit_transform(X_new_train)\n",
        "X_new_test = scaler.transform(X_new_test)"
      ],
      "metadata": {
        "id": "BDS1QeVIv3oe"
      },
      "execution_count": null,
      "outputs": []
    },
    {
      "cell_type": "code",
      "source": [
        "for cell in range (1,21):\n",
        "    tanh_nn = MLPClassifier(hidden_layer_sizes=(cell,),activation=\"logistic\",solver='adam',max_iter=1000,shuffle=False,random_state=1)\n",
        "    tanh_nn.fit(X_new_train,y_new_train)\n",
        "\n",
        "    print(cell,\"cells, acc=\",tanh_nn.score(X_new_test,y_new_test))"
      ],
      "metadata": {
        "colab": {
          "base_uri": "https://localhost:8080/"
        },
        "id": "XqvP9CGiwxCd",
        "outputId": "9b0139ec-3974-4d89-8ad3-d26711c63942"
      },
      "execution_count": null,
      "outputs": [
        {
          "output_type": "stream",
          "name": "stdout",
          "text": [
            "1 cells, acc= 0.9815422477440525\n",
            "2 cells, acc= 0.9803117309269893\n",
            "3 cells, acc= 0.9803117309269893\n",
            "4 cells, acc= 0.9815422477440525\n",
            "5 cells, acc= 0.9815422477440525\n",
            "6 cells, acc= 0.9815422477440525\n",
            "7 cells, acc= 0.9864643150123051\n",
            "8 cells, acc= 0.9864643150123051\n",
            "9 cells, acc= 0.9864643150123051\n",
            "10 cells, acc= 0.9864643150123051\n",
            "11 cells, acc= 0.9864643150123051\n",
            "12 cells, acc= 0.9864643150123051\n",
            "13 cells, acc= 1.0\n",
            "14 cells, acc= 1.0\n",
            "15 cells, acc= 1.0\n",
            "16 cells, acc= 1.0\n",
            "17 cells, acc= 1.0\n",
            "18 cells, acc= 1.0\n",
            "19 cells, acc= 1.0\n",
            "20 cells, acc= 1.0\n"
          ]
        }
      ]
    },
    {
      "cell_type": "markdown",
      "source": [
        "It seems that we were able to cut down the number of features in half to the following 9. "
      ],
      "metadata": {
        "id": "2iK8RVv51eF-"
      }
    },
    {
      "cell_type": "code",
      "source": [
        "print(accepted_filter)"
      ],
      "metadata": {
        "colab": {
          "base_uri": "https://localhost:8080/"
        },
        "id": "wkam_GO91qLQ",
        "outputId": "439d24a9-5e32-4805-ff10-8bf289750666"
      },
      "execution_count": null,
      "outputs": [
        {
          "output_type": "stream",
          "name": "stdout",
          "text": [
            "['gill-size', 'odor', 'habitat', 'gill-spacing', 'stalk-root', 'spore-print-color', 'ring-type', 'stalk-color-below-ring', 'stalk-surface-below-ring']\n"
          ]
        }
      ]
    },
    {
      "cell_type": "code",
      "source": [
        "X_new = data[accepted_filter].to_numpy()\n",
        "\n",
        "#70% train, 30%test\n",
        "X_new_train, X_new_test, y_new_train, y_new_test = train_test_split(X_new, y,test_size=0.30,random_state=1)\n",
        "\n",
        "#scaling x \n",
        "scaler = preprocessing.StandardScaler()\n",
        "X_new_train= scaler.fit_transform(X_new_train)\n",
        "X_new_test = scaler.transform(X_new_test)\n",
        "\n",
        "\n",
        "nn = MLPClassifier(hidden_layer_sizes = (20,),activation=\"logistic\",solver=\"adam\",max_iter=1000,shuffle=False,random_state=1)\n",
        "nn.fit(X_new_train,y_new_train)\n",
        "\n",
        "y_pred = nn.predict(X_new_test)\n",
        "nn_score = nn.score(X_new_test,y_new_test)\n",
        "y_pred_proba = nn.predict_proba(X_new_test)\n",
        "\n",
        "print(nn_score)\n",
        "print(\"w: \",one_nn.coefs_)\n",
        "print(\"b: \",one_nn.intercepts_)"
      ],
      "metadata": {
        "colab": {
          "base_uri": "https://localhost:8080/"
        },
        "id": "V66qpCzm1vwr",
        "outputId": "969ce101-0d3a-4465-ddec-375239ac4116"
      },
      "execution_count": null,
      "outputs": [
        {
          "output_type": "stream",
          "name": "stdout",
          "text": [
            "1.0\n",
            "w:  [array([[-0.18667516],\n",
            "       [-0.01363089],\n",
            "       [ 0.01385003],\n",
            "       [ 1.03857821],\n",
            "       [-4.49372073],\n",
            "       [ 2.21025935],\n",
            "       [ 5.01197508],\n",
            "       [-0.23557267],\n",
            "       [ 0.82923593],\n",
            "       [ 2.19577682],\n",
            "       [-0.51493344],\n",
            "       [-1.40807256],\n",
            "       [-0.31827743],\n",
            "       [ 1.50913558],\n",
            "       [-1.80742048],\n",
            "       [-2.05756897],\n",
            "       [-0.15386084],\n",
            "       [ 2.47286575]]), array([[-7.71019424]])]\n",
            "b:  [array([-1.99983543]), array([2.98553602])]\n"
          ]
        }
      ]
    },
    {
      "cell_type": "markdown",
      "source": [
        "We know 9 feautres work, let's see what's the minimum amount of features neeeded to have a nice model. (using 20 nodes)\n",
        "\n",
        "Note: We are choosing in order of the estimated influence on output from biggest influence to lowest influence. The specific order is illustrated on the table of the write-up / presentation. "
      ],
      "metadata": {
        "id": "XpXczbB8ELI5"
      }
    },
    {
      "cell_type": "code",
      "source": [
        "def feature_acceptance(number):\n",
        "    accepted_filter = []\n",
        "\n",
        "    for ind in range (number):\n",
        "        temp = feature_names[int(result[-ind-1][1])]\n",
        "        #print(temp)\n",
        "        accepted_filter.append(temp)\n",
        "\n",
        "    X_new = data[accepted_filter].to_numpy()\n",
        "\n",
        "    #70% train, 30%test\n",
        "    X_new_train, X_new_test, y_new_train, y_new_test = train_test_split(X_new, y,test_size=0.30,random_state=1)\n",
        "\n",
        "    #scaling x \n",
        "    scaler = preprocessing.StandardScaler()\n",
        "    X_new_train= scaler.fit_transform(X_new_train)\n",
        "    X_new_test = scaler.transform(X_new_test)\n",
        "\n",
        "    nn = MLPClassifier(hidden_layer_sizes = (20,),activation=\"logistic\",solver=\"adam\",max_iter=1000,shuffle=False,random_state=1)\n",
        "    nn.fit(X_new_train,y_new_train)\n",
        "\n",
        "    train_score = nn.score(X_new_train,y_new_train)\n",
        "    test_score = nn.score(X_new_test,y_new_test)\n",
        "\n",
        "    print(number,\"feature\")\n",
        "    return (train_score,test_score)\\\n",
        "\n",
        "\n",
        "train_list =[]\n",
        "test_list = []\n",
        "for x in range (1,10):\n",
        "    train_score, test_score = feature_acceptance(x)\n",
        "    train_list.append(train_score)\n",
        "    test_list.append(test_score)\n",
        "\n",
        "print(train_list)\n",
        "print(test_list)\n",
        "\n",
        "\n",
        "\n",
        "\n",
        "\n"
      ],
      "metadata": {
        "colab": {
          "base_uri": "https://localhost:8080/"
        },
        "id": "W-CpLDaPDFSp",
        "outputId": "b32aa560-fc76-4aa1-aeb4-982e84ccaa32"
      },
      "execution_count": null,
      "outputs": [
        {
          "output_type": "stream",
          "name": "stdout",
          "text": [
            "1 feature\n",
            "2 feature\n",
            "3 feature\n",
            "4 feature\n",
            "5 feature\n",
            "6 feature\n",
            "7 feature\n",
            "8 feature\n",
            "9 feature\n",
            "[0.7541329581428069, 0.9799507562434049, 0.9868097080548716, 0.9954273654590221, 0.9963067182553641, 0.9875131902919452, 0.9994723883221949, 0.9875131902919452, 1.0]\n",
            "[0.7612797374897456, 0.977850697292863, 0.9815422477440525, 0.9909762100082035, 0.9922067268252666, 0.9864643150123051, 0.9979491386382281, 0.9864643150123051, 1.0]\n"
          ]
        }
      ]
    },
    {
      "cell_type": "code",
      "source": [
        "x = np.arange(1,10)\n",
        "plt.plot(x,train_list)\n",
        "plt.plot(x,test_list)\n",
        "plt.legend(['Train Set',\"Test Set\"])\n",
        "plt.xlabel(\"Number of Features Used\")\n",
        "plt.ylabel(\"Mean Accuracy\")\n",
        "plt.title(\"NN Performance with One 20-node Hidden Layer, Sig Activation\")\n",
        "plt.show()"
      ],
      "metadata": {
        "colab": {
          "base_uri": "https://localhost:8080/",
          "height": 295
        },
        "id": "IshiygZjKWHe",
        "outputId": "90e0ce9d-1d2d-4fd4-b932-ce9caa9d3a0e"
      },
      "execution_count": null,
      "outputs": [
        {
          "output_type": "display_data",
          "data": {
            "image/png": "[encoded data removed]",
            "text/plain": [
              "<Figure size 432x288 with 1 Axes>"
            ]
          },
          "metadata": {
            "needs_background": "light"
          }
        }
      ]
    },
    {
      "cell_type": "markdown",
      "source": [
        ""
      ],
      "metadata": {
        "id": "qFqzxTbJFzQq"
      }
    }
  ]
}